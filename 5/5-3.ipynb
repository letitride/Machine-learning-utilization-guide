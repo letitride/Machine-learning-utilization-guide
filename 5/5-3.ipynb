{
 "cells": [
  {
   "cell_type": "code",
   "execution_count": 1,
   "metadata": {},
   "outputs": [
    {
     "name": "stdout",
     "output_type": "stream",
     "text": [
      "\u001b[33mWARNING: The directory '/home/jovyan/.cache/pip' or its parent directory is not owned or is not writable by the current user. The cache has been disabled. Check the permissions and owner of that directory. If executing pip with sudo, you may want sudo's -H flag.\u001b[0m\n",
      "Requirement already satisfied: azure-cognitiveservices-vision-customvision in /opt/conda/lib/python3.7/site-packages (1.0.0)\n",
      "Requirement already satisfied: azure-common~=1.1 in /opt/conda/lib/python3.7/site-packages (from azure-cognitiveservices-vision-customvision) (1.1.24)\n",
      "Requirement already satisfied: msrest>=0.5.0 in /opt/conda/lib/python3.7/site-packages (from azure-cognitiveservices-vision-customvision) (0.6.10)\n",
      "Requirement already satisfied: certifi>=2017.4.17 in /opt/conda/lib/python3.7/site-packages (from msrest>=0.5.0->azure-cognitiveservices-vision-customvision) (2019.3.9)\n",
      "Requirement already satisfied: requests-oauthlib>=0.5.0 in /opt/conda/lib/python3.7/site-packages (from msrest>=0.5.0->azure-cognitiveservices-vision-customvision) (1.3.0)\n",
      "Requirement already satisfied: isodate>=0.6.0 in /opt/conda/lib/python3.7/site-packages (from msrest>=0.5.0->azure-cognitiveservices-vision-customvision) (0.6.0)\n",
      "Requirement already satisfied: requests~=2.16 in /opt/conda/lib/python3.7/site-packages (from msrest>=0.5.0->azure-cognitiveservices-vision-customvision) (2.21.0)\n",
      "Requirement already satisfied: oauthlib>=3.0.0 in /opt/conda/lib/python3.7/site-packages (from requests-oauthlib>=0.5.0->msrest>=0.5.0->azure-cognitiveservices-vision-customvision) (3.1.0)\n",
      "Requirement already satisfied: six in /opt/conda/lib/python3.7/site-packages (from isodate>=0.6.0->msrest>=0.5.0->azure-cognitiveservices-vision-customvision) (1.12.0)\n",
      "Requirement already satisfied: urllib3<1.25,>=1.21.1 in /opt/conda/lib/python3.7/site-packages (from requests~=2.16->msrest>=0.5.0->azure-cognitiveservices-vision-customvision) (1.24.1)\n",
      "Requirement already satisfied: idna<2.9,>=2.5 in /opt/conda/lib/python3.7/site-packages (from requests~=2.16->msrest>=0.5.0->azure-cognitiveservices-vision-customvision) (2.8)\n",
      "Requirement already satisfied: chardet<3.1.0,>=3.0.2 in /opt/conda/lib/python3.7/site-packages (from requests~=2.16->msrest>=0.5.0->azure-cognitiveservices-vision-customvision) (3.0.4)\n"
     ]
    }
   ],
   "source": [
    "!pip install azure-cognitiveservices-vision-customvision"
   ]
  },
  {
   "cell_type": "code",
   "execution_count": 2,
   "metadata": {},
   "outputs": [],
   "source": [
    "import glob\n",
    "from azure.cognitiveservices.vision.customvision.prediction import CustomVisionPredictionClient"
   ]
  },
  {
   "cell_type": "code",
   "execution_count": null,
   "metadata": {},
   "outputs": [],
   "source": []
  },
  {
   "cell_type": "code",
   "execution_count": 12,
   "metadata": {},
   "outputs": [
    {
     "name": "stdout",
     "output_type": "stream",
     "text": [
      "****アイゴ****\n",
      "正解率:77.77777777777779%\n",
      "****オニカサゴ****\n",
      "正解率:93.75%\n",
      "****カワハギ****\n",
      "正解率:76.47058823529412%\n",
      "****キュウセンベラ****\n",
      "正解率:73.68421052631578%\n",
      "****クサフグ****\n",
      "正解率:100.0%\n",
      "****マアジ****\n",
      "正解率:94.44444444444444%\n",
      "****マハゼ****\n",
      "正解率:70.58823529411765%\n",
      "****ミノカサゴ****\n",
      "正解率:88.23529411764706%\n",
      "****メジナ****\n",
      "正解率:73.68421052631578%\n",
      "****メバル****\n",
      "正解率:73.68421052631578%\n"
     ]
    }
   ],
   "source": [
    "def testModel(testfiles, fishname):\n",
    "    base_url = 'https://****.cognitiveservices.azure.com/'\n",
    "    projectID = '****'\n",
    "    publish_iteration_name = 'Iteration2'\n",
    "    predictionKey = '****'\n",
    "\n",
    "    data_count = len(testfiles)\n",
    "    true_count=0\n",
    "    \n",
    "    predictor = CustomVisionPredictionClient(predictionKey, endpoint=base_url)\n",
    "    \n",
    "    for testfile in testfiles:\n",
    "        predicts = {}\n",
    "        with open(testfile, mode='rb') as f:\n",
    "            results = predictor.classify_image( projectID, publish_iteration_name, f.read() )\n",
    "            \n",
    "        for prediction in results.predictions:\n",
    "            predicts[prediction.tag_name] = prediction.probability\n",
    "            \n",
    "        prediction_result = max(predicts, key=predicts.get)\n",
    "        \n",
    "        if fishname == prediction_result:\n",
    "            true_count += 1\n",
    "            \n",
    "    accuracy = (true_count / data_count) * 100\n",
    "    print('正解率:' + str(accuracy) + '%')\n",
    "    \n",
    "root_dir = 'fish_images/'\n",
    "fishnames = [ 'アイゴ', 'オニカサゴ', 'カワハギ', 'キュウセンベラ', 'クサフグ', 'マアジ', 'マハゼ', 'ミノカサゴ', 'メジナ', 'メバル' ]\n",
    "\n",
    "for fishname in fishnames:\n",
    "    print('****' + fishname + '****')\n",
    "    testfiles = glob.glob(root_dir + fishname + '/test/*')\n",
    "    testModel(testfiles, fishname)"
   ]
  },
  {
   "cell_type": "code",
   "execution_count": null,
   "metadata": {},
   "outputs": [],
   "source": []
  },
  {
   "cell_type": "code",
   "execution_count": null,
   "metadata": {},
   "outputs": [],
   "source": []
  }
 ],
 "metadata": {
  "kernelspec": {
   "display_name": "Python 3",
   "language": "python",
   "name": "python3"
  },
  "language_info": {
   "codemirror_mode": {
    "name": "ipython",
    "version": 3
   },
   "file_extension": ".py",
   "mimetype": "text/x-python",
   "name": "python",
   "nbconvert_exporter": "python",
   "pygments_lexer": "ipython3",
   "version": "3.7.1"
  }
 },
 "nbformat": 4,
 "nbformat_minor": 2
}
