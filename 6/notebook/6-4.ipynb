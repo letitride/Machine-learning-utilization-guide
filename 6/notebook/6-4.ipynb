{
 "cells": [
  {
   "cell_type": "code",
   "execution_count": 30,
   "metadata": {},
   "outputs": [],
   "source": [
    "from selenium import webdriver\n",
    "from selenium.webdriver.chrome.options import Options\n",
    "\n",
    "CHROME_BIN = \"/usr/bin/chromium-browser\"\n",
    "CHROME_DRIVER = '/usr/lib/chromium-browser/chromedriver'\n",
    "options = Options()\n",
    "options.binary_location = CHROME_BIN\n",
    "options.add_argument(\"--disable-dev-shm-usage\")\n",
    "options.add_argument(\"start-maximized\")\n",
    "options.add_argument(\"disable-infobars\")\n",
    "options.add_argument(\"--disable-extensions\")\n",
    "options.add_argument(\"--disable-gpu\")\n",
    "options.add_argument(\"--no-sandbox\")\n",
    "options.add_argument('--headless')\n",
    "\n",
    "browser = webdriver.Chrome(CHROME_DRIVER, options=options)\n",
    "browser.get('https://sandbox.kikagaku.co.jp/blog/')"
   ]
  },
  {
   "cell_type": "code",
   "execution_count": 22,
   "metadata": {},
   "outputs": [
    {
     "data": {
      "text/plain": [
       "4"
      ]
     },
     "execution_count": 22,
     "metadata": {},
     "output_type": "execute_result"
    }
   ],
   "source": [
    "elems = browser.find_elements_by_class_name('stretched-link')\n",
    "len(elems)"
   ]
  },
  {
   "cell_type": "code",
   "execution_count": 23,
   "metadata": {},
   "outputs": [
    {
     "name": "stdout",
     "output_type": "stream",
     "text": [
      "https://sandbox.kikagaku.co.jp/blog/post1.html\n",
      "https://sandbox.kikagaku.co.jp/blog/post2.html\n",
      "https://sandbox.kikagaku.co.jp/blog/post3.html\n",
      "https://sandbox.kikagaku.co.jp/blog/post4.html\n"
     ]
    }
   ],
   "source": [
    "for elem in elems:\n",
    "    print(elem.get_attribute('href'))"
   ]
  },
  {
   "cell_type": "code",
   "execution_count": 24,
   "metadata": {},
   "outputs": [
    {
     "data": {
      "text/plain": [
       "['https://sandbox.kikagaku.co.jp/blog/post1.html',\n",
       " 'https://sandbox.kikagaku.co.jp/blog/post2.html',\n",
       " 'https://sandbox.kikagaku.co.jp/blog/post3.html',\n",
       " 'https://sandbox.kikagaku.co.jp/blog/post4.html']"
      ]
     },
     "execution_count": 24,
     "metadata": {},
     "output_type": "execute_result"
    }
   ],
   "source": [
    "urls = []\n",
    "for elem in elems:\n",
    "    url = elem.get_attribute('href')\n",
    "    urls.append(url)\n",
    "    \n",
    "urls"
   ]
  },
  {
   "cell_type": "code",
   "execution_count": 31,
   "metadata": {},
   "outputs": [
    {
     "data": {
      "text/plain": [
       "'https://sandbox.kikagaku.co.jp/blog/post1.html'"
      ]
     },
     "execution_count": 31,
     "metadata": {},
     "output_type": "execute_result"
    }
   ],
   "source": [
    "url = elems[0].get_attribute('href')\n",
    "url"
   ]
  },
  {
   "cell_type": "code",
   "execution_count": 32,
   "metadata": {},
   "outputs": [],
   "source": [
    "browser.get(url)"
   ]
  },
  {
   "cell_type": "code",
   "execution_count": 33,
   "metadata": {},
   "outputs": [
    {
     "data": {
      "text/plain": [
       "'人工知能・機械学習領域でセミナー事業を展開する株式会社キカガク(本社：東京都千代田区、代表取締役社長：吉崎 亮介)は、2019年4月に Preferred Networks 株式会社から無料で公開された Chainer チュートリアルの企画、Web サイト制作、一部のチュートリアル記事の執筆に協力いたしました。\\nキカガクで主軸として行っている社会人向けのAI領域での教育事業を大学生や学びはじめの社会人の方向けに広く提供していく予定です。日本では AI 人材育成が急務となっており、今回のチュートリアルの無料公開がこの人材の育成への第一歩となることを願っています。\\n  ■Chainer チュートリアル\\nChainer チュートリアルは、機械学習や深層学習に興味があり、その仕組みや使い方を理解したいと考えている大学生や社会人の方に向けて書かれた深層学習の初心者向けオンライン学習資料です。大学の授業や企業研修、商用セミナーなどで広く利用されることを想定し、誰でも無料で使用することが可能です。機械学習の勉強を進めるために必要な数学の基礎から、Python というプログラミング言語を用いたコーディングの基本、機械学習・深層学習の基礎的な理論、機械学習を応用する方法に至るまで、幅広いトピックを解説しています。\\n▽ Chainer チュートリアル\\nhttps://tutorials.chainer.org/ja/\\n■AI 人材育成へ興味がある企業・大学の方へ\\nキカガクでは多くの企業への法人研修や、東京大学・東北大学をはじめとした大学・高専への講義も行ってきました。また、一般向けの短期セミナーや長期セミナーだけでなく、製造業に特化したコースなど各企業と連携した人材育成への取り組みも進めています。AI人材の育成が急務となっている企業の方、各業界固有の知見を活かした協業や研修のご相談をお待ちしております。\\n▽参考：製造業特化型データサイエンス集中コース\\nhttps://dsit.kikagaku.co.jp/\\n  【株式会社キカガク 会社概要】\\n代表者\\u3000\\u3000： 吉崎 亮介\\n設立\\u3000\\u3000\\u3000： 2017年1月17日\\n本社所在地： 東京都千代田区内神田3丁目2-9 SPビル6階\\n事業内容\\u3000： 機械学習の教育およびコンサルティング\\nURL\\u3000\\u3000\\u3000 ： https://www.kikagaku.co.jp/ '"
      ]
     },
     "execution_count": 33,
     "metadata": {},
     "output_type": "execute_result"
    }
   ],
   "source": [
    "elem = browser.find_element_by_class_name('newsContent_inner')\n",
    "elem.text"
   ]
  },
  {
   "cell_type": "code",
   "execution_count": 34,
   "metadata": {},
   "outputs": [],
   "source": [
    "from janome.tokenizer import Tokenizer\n",
    "from gensim import corpora, matutils\n",
    "import joblib\n",
    "\n",
    "tagger = Tokenizer(wakati=True)\n",
    "dictionary = joblib.load('dictionary.pkl')\n",
    "clf = joblib.load('document_classifier.pkl')"
   ]
  },
  {
   "cell_type": "code",
   "execution_count": 35,
   "metadata": {},
   "outputs": [
    {
     "data": {
      "text/plain": [
       "9797"
      ]
     },
     "execution_count": 35,
     "metadata": {},
     "output_type": "execute_result"
    }
   ],
   "source": [
    "n_words = len(dictionary)\n",
    "n_words"
   ]
  },
  {
   "cell_type": "code",
   "execution_count": 36,
   "metadata": {},
   "outputs": [
    {
     "data": {
      "text/plain": [
       "['人工', '知能', '・', '機械', '学習', '領域', 'で', 'セミナー', '事業', 'を']"
      ]
     },
     "execution_count": 36,
     "metadata": {},
     "output_type": "execute_result"
    }
   ],
   "source": [
    "def preprocessing(text):\n",
    "    text = text.replace('\\u3000', '')\n",
    "    text = text.replace('\\n', '')\n",
    "    words = tagger.tokenize(text)\n",
    "    return words\n",
    "\n",
    "words = preprocessing(elem.text)\n",
    "words[:10]"
   ]
  },
  {
   "cell_type": "code",
   "execution_count": 37,
   "metadata": {},
   "outputs": [
    {
     "data": {
      "text/plain": [
       "array([[1., 1., 1., ..., 0., 0., 0.]], dtype=float32)"
      ]
     },
     "execution_count": 37,
     "metadata": {},
     "output_type": "execute_result"
    }
   ],
   "source": [
    "def get_bow(words):\n",
    "    # 辞書何にある単語の出現回数を数える\n",
    "    bow_id = dictionary.doc2bow(words)\n",
    "    # 長さを揃えて転置\n",
    "    bow = matutils.corpus2dense([bow_id], n_words).T\n",
    "    return bow\n",
    "\n",
    "x = get_bow(words)\n",
    "x"
   ]
  },
  {
   "cell_type": "code",
   "execution_count": 38,
   "metadata": {},
   "outputs": [
    {
     "data": {
      "text/plain": [
       "0"
      ]
     },
     "execution_count": 38,
     "metadata": {},
     "output_type": "execute_result"
    }
   ],
   "source": [
    "y = clf.predict(x)[0]\n",
    "y"
   ]
  },
  {
   "cell_type": "code",
   "execution_count": 39,
   "metadata": {},
   "outputs": [
    {
     "name": "stdout",
     "output_type": "stream",
     "text": [
      "URL: https://sandbox.kikagaku.co.jp/blog/post1.html, Label: 0\n",
      "URL: https://sandbox.kikagaku.co.jp/blog/post2.html, Label: 0\n",
      "URL: https://sandbox.kikagaku.co.jp/blog/post3.html, Label: 0\n",
      "URL: https://sandbox.kikagaku.co.jp/blog/post4.html, Label: 1\n"
     ]
    }
   ],
   "source": [
    "for url in urls:\n",
    "    browser.get(url)\n",
    "    text = browser.find_element_by_class_name('newsContent_inner').text\n",
    "    words = preprocessing(text)\n",
    "    x = get_bow(words)\n",
    "    y = clf.predict(x)[0]\n",
    "    print('URL: {}, Label: {}'.format(url, y))\n",
    "    "
   ]
  },
  {
   "cell_type": "code",
   "execution_count": null,
   "metadata": {},
   "outputs": [],
   "source": []
  }
 ],
 "metadata": {
  "kernelspec": {
   "display_name": "Python 3",
   "language": "python",
   "name": "python3"
  },
  "language_info": {
   "codemirror_mode": {
    "name": "ipython",
    "version": 3
   },
   "file_extension": ".py",
   "mimetype": "text/x-python",
   "name": "python",
   "nbconvert_exporter": "python",
   "pygments_lexer": "ipython3",
   "version": "3.7.1"
  }
 },
 "nbformat": 4,
 "nbformat_minor": 2
}
