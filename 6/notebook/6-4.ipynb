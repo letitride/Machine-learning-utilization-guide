{
 "cells": [
  {
   "cell_type": "code",
   "execution_count": 9,
   "metadata": {},
   "outputs": [],
   "source": [
    "from selenium import webdriver\n",
    "from selenium.webdriver.chrome.options import Options\n",
    "\n",
    "CHROME_BIN = \"/usr/bin/chromium-browser\"\n",
    "CHROME_DRIVER = '/usr/lib/chromium-browser/chromedriver'\n",
    "options = Options()\n",
    "options.binary_location = CHROME_BIN\n",
    "options.add_argument(\"--disable-dev-shm-usage\")\n",
    "options.add_argument(\"start-maximized\")\n",
    "options.add_argument(\"disable-infobars\")\n",
    "options.add_argument(\"--disable-extensions\")\n",
    "options.add_argument(\"--disable-gpu\")\n",
    "options.add_argument(\"--no-sandbox\")\n",
    "options.add_argument('--headless')\n",
    "\n",
    "browser = webdriver.Chrome(CHROME_DRIVER, options=options)\n",
    "browser.get('https://sandbox.kikagaku.co.jp/blog/')"
   ]
  },
  {
   "cell_type": "code",
   "execution_count": 15,
   "metadata": {},
   "outputs": [
    {
     "data": {
      "text/plain": [
       "4"
      ]
     },
     "execution_count": 15,
     "metadata": {},
     "output_type": "execute_result"
    }
   ],
   "source": [
    "elems = browser.find_elements_by_class_name('stretched-link')\n",
    "len(elems)"
   ]
  },
  {
   "cell_type": "code",
   "execution_count": 16,
   "metadata": {},
   "outputs": [
    {
     "name": "stdout",
     "output_type": "stream",
     "text": [
      "https://sandbox.kikagaku.co.jp/blog/post1.html\n",
      "https://sandbox.kikagaku.co.jp/blog/post2.html\n",
      "https://sandbox.kikagaku.co.jp/blog/post3.html\n",
      "https://sandbox.kikagaku.co.jp/blog/post4.html\n"
     ]
    }
   ],
   "source": [
    "for elem in elems:\n",
    "    print(elem.get_attribute('href'))"
   ]
  },
  {
   "cell_type": "code",
   "execution_count": 18,
   "metadata": {},
   "outputs": [
    {
     "data": {
      "text/plain": [
       "['https://sandbox.kikagaku.co.jp/blog/post1.html',\n",
       " 'https://sandbox.kikagaku.co.jp/blog/post2.html',\n",
       " 'https://sandbox.kikagaku.co.jp/blog/post3.html',\n",
       " 'https://sandbox.kikagaku.co.jp/blog/post4.html']"
      ]
     },
     "execution_count": 18,
     "metadata": {},
     "output_type": "execute_result"
    }
   ],
   "source": [
    "urls = []\n",
    "for elem in elems:\n",
    "    url = elem.get_attribute('href')\n",
    "    urls.append(url)\n",
    "    \n",
    "urls"
   ]
  },
  {
   "cell_type": "code",
   "execution_count": null,
   "metadata": {},
   "outputs": [],
   "source": []
  }
 ],
 "metadata": {
  "kernelspec": {
   "display_name": "Python 3",
   "language": "python",
   "name": "python3"
  },
  "language_info": {
   "codemirror_mode": {
    "name": "ipython",
    "version": 3
   },
   "file_extension": ".py",
   "mimetype": "text/x-python",
   "name": "python",
   "nbconvert_exporter": "python",
   "pygments_lexer": "ipython3",
   "version": "3.7.1"
  }
 },
 "nbformat": 4,
 "nbformat_minor": 2
}
